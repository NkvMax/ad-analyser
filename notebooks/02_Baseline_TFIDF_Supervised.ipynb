{
 "cells": [
  {
   "cell_type": "markdown",
   "id": "5f2bbd31",
   "metadata": {},
   "source": [
    "# 02 · Baseline: TF-IDF + Linear\n",
    "\n",
    "**Цель.** Базовое супервизируемое решение для coarse-классификации: быстро получить отправную точку по качеству и латентности.\n",
    "\n",
    "**Что делаем**\n",
    "\n",
    "- Препроцессинг текста (нормализация, минимальная очистка).\n",
    "    \n",
    "- TF-IDF (слова/символьные n-граммы; ru stopwords).\n",
    "    \n",
    "- Линейная модель (LogReg/LinearSVC), стратиф. CV.\n",
    "    \n",
    "- Метрики: accuracy, macro/micro-F1, confusion по топ-классам.\n",
    "    \n",
    "- Экспорт артефактов бейслайна (по желанию).\n",
    "    \n",
    "\n",
    "**Зачем нужно**\n",
    "\n",
    "- Отправная точка для сравнения с RuBERT.\n",
    "    \n",
    "- Быстрые эксперименты по признакам/балансу классов.\n",
    "    "
   ]
  },
  {
   "cell_type": "markdown",
   "id": "b3001948",
   "metadata": {},
   "source": [
    "## Импорты и пути"
   ]
  },
  {
   "cell_type": "code",
   "execution_count": 2,
   "id": "0984fcc3",
   "metadata": {},
   "outputs": [],
   "source": [
    "\n",
    "from pathlib import Path\n",
    "import re, json, datetime\n",
    "import numpy as np\n",
    "import pandas as pd\n",
    "\n",
    "from sklearn.model_selection import train_test_split\n",
    "from sklearn.feature_extraction.text import TfidfVectorizer\n",
    "from sklearn.svm import LinearSVC\n",
    "from sklearn.calibration import CalibratedClassifierCV\n",
    "from sklearn.metrics import accuracy_score, f1_score, classification_report, confusion_matrix\n",
    "from scipy.sparse import hstack\n",
    "\n",
    "import matplotlib.pyplot as plt\n",
    "import joblib\n",
    "\n",
    "# Пути к данным и артефактам\n",
    "DATA_PATH = Path(\"../data/synthetic_ru_private_ads_50cats_10000_v2.csv\")\n",
    "MODEL_PATH = Path(\"../data/supervised_baseline.joblib\")\n",
    "REPORT_PATH = Path(\"../data/supervised_eval_report.csv\")\n",
    "PRED_SAMPLES_PATH = Path(\"../data/supervised_pred_samples.csv\")\n",
    "\n",
    "assert DATA_PATH.exists(), f\"Не найден датасет: {DATA_PATH}\"\n"
   ]
  },
  {
   "cell_type": "markdown",
   "id": "5a076843",
   "metadata": {},
   "source": [
    "## Загрузка данных"
   ]
  },
  {
   "cell_type": "code",
   "execution_count": 3,
   "id": "34d18389",
   "metadata": {},
   "outputs": [
    {
     "name": "stdout",
     "output_type": "stream",
     "text": [
      "(10000, 10)\n"
     ]
    },
    {
     "data": {
      "text/html": [
       "<div>\n",
       "<style scoped>\n",
       "    .dataframe tbody tr th:only-of-type {\n",
       "        vertical-align: middle;\n",
       "    }\n",
       "\n",
       "    .dataframe tbody tr th {\n",
       "        vertical-align: top;\n",
       "    }\n",
       "\n",
       "    .dataframe thead th {\n",
       "        text-align: right;\n",
       "    }\n",
       "</style>\n",
       "<table border=\"1\" class=\"dataframe\">\n",
       "  <thead>\n",
       "    <tr style=\"text-align: right;\">\n",
       "      <th></th>\n",
       "      <th>id</th>\n",
       "      <th>title</th>\n",
       "      <th>description</th>\n",
       "      <th>category</th>\n",
       "      <th>condition</th>\n",
       "      <th>city</th>\n",
       "      <th>price</th>\n",
       "      <th>currency</th>\n",
       "      <th>posted_at</th>\n",
       "      <th>source</th>\n",
       "    </tr>\n",
       "  </thead>\n",
       "  <tbody>\n",
       "    <tr>\n",
       "      <th>0</th>\n",
       "      <td>fd6c2aae-a67c-4d0a-8aca-468114fdd2bc</td>\n",
       "      <td>Продаю автоаксессуары — Санкт-Петербург</td>\n",
       "      <td>Покажу сегодня. Без дтп. Документы в наличии. ...</td>\n",
       "      <td>Автоаксессуары</td>\n",
       "      <td>удовлетворительное</td>\n",
       "      <td>Санкт-Петербург</td>\n",
       "      <td>62854</td>\n",
       "      <td>RUB</td>\n",
       "      <td>2025-03-27T17:16:19</td>\n",
       "      <td>synthetic_ru_private_ads_v2</td>\n",
       "    </tr>\n",
       "    <tr>\n",
       "      <th>1</th>\n",
       "      <td>1de380f2-85b5-44c9-96d5-a923c29737b5</td>\n",
       "      <td>Продаю автоаксессуары — Казань</td>\n",
       "      <td>Город: Воронеж. Договорная. Обслуживание у дил...</td>\n",
       "      <td>Автоаксессуары</td>\n",
       "      <td>на запчасти</td>\n",
       "      <td>Уфа</td>\n",
       "      <td>83030</td>\n",
       "      <td>RUB</td>\n",
       "      <td>2025-04-24T16:42:19</td>\n",
       "      <td>synthetic_ru_private_ads_v2</td>\n",
       "    </tr>\n",
       "    <tr>\n",
       "      <th>2</th>\n",
       "      <td>1646a31d-943e-4510-a3f5-57417f3a23db</td>\n",
       "      <td>В продаже автоаксессуары — Нижний Новгород</td>\n",
       "      <td>Гаражное хранение. Город: Новосибирск. Покажу ...</td>\n",
       "      <td>Автоаксессуары</td>\n",
       "      <td>новое</td>\n",
       "      <td>Хабаровск</td>\n",
       "      <td>70628</td>\n",
       "      <td>RUB</td>\n",
       "      <td>2025-08-02T18:05:19</td>\n",
       "      <td>synthetic_ru_private_ads_v2</td>\n",
       "    </tr>\n",
       "  </tbody>\n",
       "</table>\n",
       "</div>"
      ],
      "text/plain": [
       "                                     id  \\\n",
       "0  fd6c2aae-a67c-4d0a-8aca-468114fdd2bc   \n",
       "1  1de380f2-85b5-44c9-96d5-a923c29737b5   \n",
       "2  1646a31d-943e-4510-a3f5-57417f3a23db   \n",
       "\n",
       "                                        title  \\\n",
       "0     Продаю автоаксессуары — Санкт-Петербург   \n",
       "1              Продаю автоаксессуары — Казань   \n",
       "2  В продаже автоаксессуары — Нижний Новгород   \n",
       "\n",
       "                                         description        category  \\\n",
       "0  Покажу сегодня. Без дтп. Документы в наличии. ...  Автоаксессуары   \n",
       "1  Город: Воронеж. Договорная. Обслуживание у дил...  Автоаксессуары   \n",
       "2  Гаражное хранение. Город: Новосибирск. Покажу ...  Автоаксессуары   \n",
       "\n",
       "            condition             city  price currency            posted_at  \\\n",
       "0  удовлетворительное  Санкт-Петербург  62854      RUB  2025-03-27T17:16:19   \n",
       "1         на запчасти              Уфа  83030      RUB  2025-04-24T16:42:19   \n",
       "2               новое        Хабаровск  70628      RUB  2025-08-02T18:05:19   \n",
       "\n",
       "                        source  \n",
       "0  synthetic_ru_private_ads_v2  \n",
       "1  synthetic_ru_private_ads_v2  \n",
       "2  synthetic_ru_private_ads_v2  "
      ]
     },
     "execution_count": 3,
     "metadata": {},
     "output_type": "execute_result"
    }
   ],
   "source": [
    "\n",
    "df = pd.read_csv(DATA_PATH)\n",
    "print(df.shape)\n",
    "df.head(3)\n"
   ]
  },
  {
   "cell_type": "markdown",
   "id": "e82fe7f9",
   "metadata": {},
   "source": [
    "\n",
    "## Очистка текста (склейка title+description, удаление телефонов и городов)\n",
    "\n",
    "- Склеиваем `title` + `description`.\n",
    "- Удаляем телефоноподобные последовательности.\n",
    "- Удаляем встречающиеся в колонке `city` города (чтобы не переобучаться на географию).\n"
   ]
  },
  {
   "cell_type": "code",
   "execution_count": 4,
   "id": "ea2fa6d7",
   "metadata": {},
   "outputs": [
    {
     "name": "stdout",
     "output_type": "stream",
     "text": [
      "Пример очищенного текста:\n"
     ]
    },
    {
     "data": {
      "text/html": [
       "<div>\n",
       "<style scoped>\n",
       "    .dataframe tbody tr th:only-of-type {\n",
       "        vertical-align: middle;\n",
       "    }\n",
       "\n",
       "    .dataframe tbody tr th {\n",
       "        vertical-align: top;\n",
       "    }\n",
       "\n",
       "    .dataframe thead th {\n",
       "        text-align: right;\n",
       "    }\n",
       "</style>\n",
       "<table border=\"1\" class=\"dataframe\">\n",
       "  <thead>\n",
       "    <tr style=\"text-align: right;\">\n",
       "      <th></th>\n",
       "      <th>_text</th>\n",
       "      <th>category</th>\n",
       "    </tr>\n",
       "  </thead>\n",
       "  <tbody>\n",
       "    <tr>\n",
       "      <th>0</th>\n",
       "      <td>продаю автоаксессуары — покажу сегодня. без дт...</td>\n",
       "      <td>Автоаксессуары</td>\n",
       "    </tr>\n",
       "    <tr>\n",
       "      <th>1</th>\n",
       "      <td>продаю автоаксессуары — город: . договорная. о...</td>\n",
       "      <td>Автоаксессуары</td>\n",
       "    </tr>\n",
       "    <tr>\n",
       "      <th>2</th>\n",
       "      <td>в продаже автоаксессуары — гаражное хранение. ...</td>\n",
       "      <td>Автоаксессуары</td>\n",
       "    </tr>\n",
       "  </tbody>\n",
       "</table>\n",
       "</div>"
      ],
      "text/plain": [
       "                                               _text        category\n",
       "0  продаю автоаксессуары — покажу сегодня. без дт...  Автоаксессуары\n",
       "1  продаю автоаксессуары — город: . договорная. о...  Автоаксессуары\n",
       "2  в продаже автоаксессуары — гаражное хранение. ...  Автоаксессуары"
      ]
     },
     "metadata": {},
     "output_type": "display_data"
    }
   ],
   "source": [
    "\n",
    "text_col1, text_col2 = \"title\", \"description\"\n",
    "label_col = \"category\"\n",
    "\n",
    "cities = sorted(df[\"city\"].dropna().astype(str).unique().tolist()) if \"city\" in df.columns else []\n",
    "phone_pattern = re.compile(r\"(\\+?\\d[\\d\\-\\s]{6,}\\d)\")\n",
    "multi_space = re.compile(r\"\\s+\")\n",
    "city_pattern = re.compile(r\"\\b(\" + \"|\".join([re.escape(c) for c in cities]) + r\")\\b\", flags=re.IGNORECASE) if cities else None\n",
    "\n",
    "def clean_text(s: str) -> str:\n",
    "    s = str(s).lower()\n",
    "    s = phone_pattern.sub(\" \", s)\n",
    "    if city_pattern is not None:\n",
    "        s = city_pattern.sub(\" \", s)\n",
    "    s = multi_space.sub(\" \", s).strip()\n",
    "    return s\n",
    "\n",
    "df[\"_text\"] = (df[text_col1].fillna(\"\") + \" \" + df[text_col2].fillna(\"\")).apply(clean_text)\n",
    "df[label_col] = df[label_col].astype(str)\n",
    "df = df[df[\"_text\"].str.len() > 0].copy()\n",
    "\n",
    "print(\"Пример очищенного текста:\")\n",
    "display(df[[\"_text\", label_col]].head(3))\n"
   ]
  },
  {
   "cell_type": "markdown",
   "id": "fb7099f1",
   "metadata": {},
   "source": [
    "## Тренировочное и тестовое разбиение"
   ]
  },
  {
   "cell_type": "code",
   "execution_count": 5,
   "id": "59d7375a",
   "metadata": {},
   "outputs": [
    {
     "data": {
      "text/plain": [
       "(8000, 2000, 50)"
      ]
     },
     "execution_count": 5,
     "metadata": {},
     "output_type": "execute_result"
    }
   ],
   "source": [
    "\n",
    "X = df[\"_text\"].values\n",
    "y = df[label_col].values\n",
    "\n",
    "X_train, X_test, y_train, y_test = train_test_split(\n",
    "    X, y, test_size=0.2, random_state=42, stratify=y\n",
    ")\n",
    "\n",
    "len(X_train), len(X_test), len(np.unique(y))\n"
   ]
  },
  {
   "cell_type": "markdown",
   "id": "633a8a6c",
   "metadata": {},
   "source": [
    "## Признаки: TF‑IDF по словам и символам"
   ]
  },
  {
   "cell_type": "code",
   "execution_count": 6,
   "id": "0e30630a",
   "metadata": {},
   "outputs": [
    {
     "data": {
      "text/plain": [
       "((8000, 17678), (2000, 17678))"
      ]
     },
     "execution_count": 6,
     "metadata": {},
     "output_type": "execute_result"
    }
   ],
   "source": [
    "\n",
    "word_vect = TfidfVectorizer(\n",
    "    analyzer=\"word\", ngram_range=(1, 2),\n",
    "    min_df=2, max_df=0.95, sublinear_tf=True\n",
    ")\n",
    "char_vect = TfidfVectorizer(\n",
    "    analyzer=\"char\", ngram_range=(3, 5),\n",
    "    min_df=2, sublinear_tf=True\n",
    ")\n",
    "\n",
    "X_train_all = hstack([word_vect.fit_transform(X_train), char_vect.fit_transform(X_train)]).tocsr()\n",
    "X_test_all  = hstack([word_vect.transform(X_test),    char_vect.transform(X_test)]).tocsr()\n",
    "\n",
    "X_train_all.shape, X_test_all.shape\n"
   ]
  },
  {
   "cell_type": "markdown",
   "id": "7d250198",
   "metadata": {},
   "source": [
    "## Обучение классификатора (LinearSVC + калибровка вероятностей)"
   ]
  },
  {
   "cell_type": "code",
   "execution_count": 7,
   "id": "6c9ba4b6",
   "metadata": {},
   "outputs": [],
   "source": [
    "\n",
    "clf = CalibratedClassifierCV(LinearSVC(), method=\"sigmoid\", cv=3)\n",
    "clf.fit(X_train_all, y_train)\n",
    "\n",
    "proba = clf.predict_proba(X_test_all)\n",
    "pred  = clf.classes_[proba.argmax(1)]\n"
   ]
  },
  {
   "cell_type": "markdown",
   "id": "57f13a41",
   "metadata": {},
   "source": [
    "## Базовые метрики качества"
   ]
  },
  {
   "cell_type": "code",
   "execution_count": 8,
   "id": "2f82b60b",
   "metadata": {},
   "outputs": [
    {
     "name": "stdout",
     "output_type": "stream",
     "text": [
      "Accuracy: 1.0000 | Macro-F1: 1.0000\n",
      "\n",
      "Классификационный отчёт (срез):\n",
      "                           precision    recall  f1-score   support\n",
      "\n",
      "           Автоаксессуары       1.00      1.00      1.00        40\n",
      "             Аудиотехника       1.00      1.00      1.00        40\n",
      "               Велосипеды       1.00      1.00      1.00        40\n",
      "         Водный транспорт       1.00      1.00      1.00        40\n",
      "        Гаражи и парковки       1.00      1.00      1.00        40\n",
      "  Грузовики и спецтехника       1.00      1.00      1.00        40\n",
      "           Детская одежда       1.00      1.00      1.00        40\n",
      "     Дома и дачи — аренда       1.00      1.00      1.00        40\n",
      "    Дома и дачи — продажа       1.00      1.00      1.00        40\n",
      "        Запчасти для авто       1.00      1.00      1.00        40\n",
      "                  Игрушки       1.00      1.00      1.00        40\n",
      "         Игры и приставки       1.00      1.00      1.00        40\n",
      "              Инструменты       1.00      1.00      1.00        40\n",
      "         Интерьер и декор       1.00      1.00      1.00     \n"
     ]
    }
   ],
   "source": [
    "\n",
    "acc = accuracy_score(y_test, pred)\n",
    "macro_f1 = f1_score(y_test, pred, average=\"macro\")\n",
    "print(f\"Accuracy: {acc:.4f} | Macro-F1: {macro_f1:.4f}\")\n",
    "print(\"\\nКлассификационный отчет (срез):\")\n",
    "print(classification_report(y_test, pred)[:1000])  # укоротим вывод\n"
   ]
  },
  {
   "cell_type": "markdown",
   "id": "1c33a3ec",
   "metadata": {},
   "source": [
    "## Матрица ошибок (без класса \"Other\")"
   ]
  },
  {
   "cell_type": "code",
   "execution_count": 9,
   "id": "f1c01fad",
   "metadata": {},
   "outputs": [
    {
     "data": {
      "image/png": "[encoded data removed]",
      "text/plain": [
       "<Figure size 600x600 with 1 Axes>"
      ]
     },
     "metadata": {},
     "output_type": "display_data"
    }
   ],
   "source": [
    "\n",
    "cm = confusion_matrix(y_test, pred, labels=clf.classes_)\n",
    "plt.figure(figsize=(6,6))\n",
    "plt.imshow(cm, interpolation=\"nearest\")\n",
    "plt.title(\"Confusion matrix (no Other)\")\n",
    "plt.xlabel(\"Predicted\")\n",
    "plt.ylabel(\"True\")\n",
    "plt.xticks([], [])\n",
    "plt.yticks([], [])\n",
    "plt.tight_layout()\n",
    "plt.show()\n"
   ]
  },
  {
   "cell_type": "markdown",
   "id": "991223b5",
   "metadata": {},
   "source": [
    "## Подбор порога для класса \"Other\""
   ]
  },
  {
   "cell_type": "code",
   "execution_count": 10,
   "id": "2161aad8",
   "metadata": {},
   "outputs": [
    {
     "name": "stdout",
     "output_type": "stream",
     "text": [
      "Best tau: 0.500 | Macro-F1 with Other: 0.9804\n"
     ]
    },
    {
     "name": "stderr",
     "output_type": "stream",
     "text": [
      "/Users/maxim/Documents/GitHub/report-analysis/.venv/lib/python3.11/site-packages/sklearn/metrics/_classification.py:1731: UndefinedMetricWarning: F-score is ill-defined and being set to 0.0 in labels with no true nor predicted samples. Use `zero_division` parameter to control this behavior.\n",
      "  _warn_prf(average, modifier, f\"{metric.capitalize()} is\", result.shape[0])\n",
      "/Users/maxim/Documents/GitHub/report-analysis/.venv/lib/python3.11/site-packages/sklearn/metrics/_classification.py:1731: UndefinedMetricWarning: F-score is ill-defined and being set to 0.0 in labels with no true nor predicted samples. Use `zero_division` parameter to control this behavior.\n",
      "  _warn_prf(average, modifier, f\"{metric.capitalize()} is\", result.shape[0])\n",
      "/Users/maxim/Documents/GitHub/report-analysis/.venv/lib/python3.11/site-packages/sklearn/metrics/_classification.py:1731: UndefinedMetricWarning: F-score is ill-defined and being set to 0.0 in labels with no true nor predicted samples. Use `zero_division` parameter to control this behavior.\n",
      "  _warn_prf(average, modifier, f\"{metric.capitalize()} is\", result.shape[0])\n",
      "/Users/maxim/Documents/GitHub/report-analysis/.venv/lib/python3.11/site-packages/sklearn/metrics/_classification.py:1731: UndefinedMetricWarning: F-score is ill-defined and being set to 0.0 in labels with no true nor predicted samples. Use `zero_division` parameter to control this behavior.\n",
      "  _warn_prf(average, modifier, f\"{metric.capitalize()} is\", result.shape[0])\n",
      "/Users/maxim/Documents/GitHub/report-analysis/.venv/lib/python3.11/site-packages/sklearn/metrics/_classification.py:1731: UndefinedMetricWarning: F-score is ill-defined and being set to 0.0 in labels with no true nor predicted samples. Use `zero_division` parameter to control this behavior.\n",
      "  _warn_prf(average, modifier, f\"{metric.capitalize()} is\", result.shape[0])\n",
      "/Users/maxim/Documents/GitHub/report-analysis/.venv/lib/python3.11/site-packages/sklearn/metrics/_classification.py:1731: UndefinedMetricWarning: F-score is ill-defined and being set to 0.0 in labels with no true nor predicted samples. Use `zero_division` parameter to control this behavior.\n",
      "  _warn_prf(average, modifier, f\"{metric.capitalize()} is\", result.shape[0])\n",
      "/Users/maxim/Documents/GitHub/report-analysis/.venv/lib/python3.11/site-packages/sklearn/metrics/_classification.py:1731: UndefinedMetricWarning: F-score is ill-defined and being set to 0.0 in labels with no true nor predicted samples. Use `zero_division` parameter to control this behavior.\n",
      "  _warn_prf(average, modifier, f\"{metric.capitalize()} is\", result.shape[0])\n"
     ]
    }
   ],
   "source": [
    "\n",
    "def evaluate_with_other(y_true, proba, classes, tau: float):\n",
    "    idx = np.argmax(proba, axis=1)\n",
    "    maxp = proba[np.arange(len(y_true)), idx]\n",
    "    y_hat = classes[idx].astype(object)\n",
    "    y_hat[maxp < tau] = \"Other\"\n",
    "    labels = list(np.unique(list(y_true) + [\"Other\"]))\n",
    "    f1 = f1_score(y_true, y_hat, labels=labels, average=\"macro\")\n",
    "    return f1, y_hat, maxp\n",
    "\n",
    "taus = np.linspace(0.50, 0.95, 10)\n",
    "best_tau, best_f1 = None, -1.0\n",
    "for t in taus:\n",
    "    f1_t, _, _ = evaluate_with_other(y_test, proba, clf.classes_, t)\n",
    "    if f1_t > best_f1:\n",
    "        best_f1, best_tau = f1_t, t\n",
    "\n",
    "print(f\"Best tau: {best_tau:.3f} | Macro-F1 with Other: {best_f1:.4f}\")\n"
   ]
  },
  {
   "cell_type": "markdown",
   "id": "56449eb5",
   "metadata": {},
   "source": [
    "## Сохранение артефактов (vectorizers + model + порог)"
   ]
  },
  {
   "cell_type": "code",
   "execution_count": 11,
   "id": "f4c05f5d",
   "metadata": {},
   "outputs": [
    {
     "name": "stdout",
     "output_type": "stream",
     "text": [
      "Сохранено:\n",
      "- ../data/supervised_baseline.joblib\n",
      "- ../data/supervised_eval_report.csv\n",
      "- ../data/supervised_pred_samples.csv\n"
     ]
    }
   ],
   "source": [
    "\n",
    "joblib.dump({\n",
    "    \"word_vect\": word_vect,\n",
    "    \"char_vect\": char_vect,\n",
    "    \"clf\": clf,\n",
    "    \"reject\": {\"strategy\": \"probability\", \"tau\": float(best_tau)},\n",
    "    \"text_cols\": [text_col1, text_col2],\n",
    "    \"label_col\": label_col,\n",
    "    \"city_stoplist\": cities,\n",
    "}, MODEL_PATH)\n",
    "\n",
    "# Небольшой отчет и примеры\n",
    "maxp = proba.max(1)\n",
    "pred_with_other = pred.astype(object)\n",
    "pred_with_other[maxp < best_tau] = \"Other\"\n",
    "\n",
    "pd.DataFrame({\n",
    "    \"accuracy\": [acc],\n",
    "    \"macro_f1\": [macro_f1],\n",
    "    \"best_tau\": [best_tau],\n",
    "    \"macro_f1_with_other\": [best_f1]\n",
    "}).to_csv(REPORT_PATH, index=False)\n",
    "\n",
    "pd.DataFrame({\n",
    "    \"text\": X_test[:50],\n",
    "    \"true_label\": y_test[:50],\n",
    "    \"pred_label\": pred[:50],\n",
    "    \"pred_with_other\": pred_with_other[:50],\n",
    "    \"confidence\": maxp[:50].round(3),\n",
    "}).to_csv(PRED_SAMPLES_PATH, index=False)\n",
    "\n",
    "print(\"Сохранено:\")\n",
    "print(\"-\", MODEL_PATH)\n",
    "print(\"-\", REPORT_PATH)\n",
    "print(\"-\", PRED_SAMPLES_PATH)\n"
   ]
  },
  {
   "cell_type": "markdown",
   "id": "af3ec786",
   "metadata": {},
   "source": [
    "## Инференс: функции загрузки и предсказания"
   ]
  },
  {
   "cell_type": "code",
   "execution_count": 12,
   "id": "d3192bae",
   "metadata": {},
   "outputs": [],
   "source": [
    "\n",
    "def load_artifacts(model_path=MODEL_PATH):\n",
    "    arts = joblib.load(model_path)\n",
    "    return arts\n",
    "\n",
    "def _build_cleaner(city_stoplist):\n",
    "    phone_pattern = re.compile(r\"(\\+?\\d[\\d\\-\\s]{6,}\\d)\")\n",
    "    multi_space = re.compile(r\"\\s+\")\n",
    "    city_pattern = re.compile(r\"\\b(\" + \"|\".join([re.escape(c) for c in city_stoplist]) + r\")\\b\", flags=re.IGNORECASE) if city_stoplist else None\n",
    "    def clean_text(s: str) -> str:\n",
    "        s = str(s).lower()\n",
    "        s = phone_pattern.sub(\" \", s)\n",
    "        if city_pattern is not None:\n",
    "            s = city_pattern.sub(\" \", s)\n",
    "        s = multi_space.sub(\" \", s).strip()\n",
    "        return s\n",
    "    return clean_text\n",
    "\n",
    "def classify_texts(texts, arts=None, use_other=True, topk=5):\n",
    "    if arts is None:\n",
    "        arts = load_artifacts()\n",
    "    word_vect = arts[\"word_vect\"]\n",
    "    char_vect = arts[\"char_vect\"]\n",
    "    clf = arts[\"clf\"]\n",
    "    tau = float(arts[\"reject\"][\"tau\"]) if use_other else 0.0\n",
    "    text_cols = arts.get(\"text_cols\", [\"title\", \"description\"])\n",
    "    city_stoplist = arts.get(\"city_stoplist\", [])\n",
    "\n",
    "    clean = _build_cleaner(city_stoplist)\n",
    "\n",
    "    # Нормализуем входы\n",
    "    texts_clean = [clean(t) for t in texts]\n",
    "\n",
    "    # Векторизация\n",
    "    Xw = word_vect.transform(texts_clean)\n",
    "    Xc = char_vect.transform(texts_clean)\n",
    "    X = hstack([Xw, Xc]).tocsr()\n",
    "\n",
    "    # Предсказания\n",
    "    proba = clf.predict_proba(X)\n",
    "    idx = np.argmax(proba, axis=1)\n",
    "    preds = clf.classes_[idx]\n",
    "    maxp = proba[np.arange(len(texts)), idx]\n",
    "\n",
    "    # Применяем класс \"Other\" при необходимости\n",
    "    preds_final = preds.astype(object)\n",
    "    preds_final[maxp < tau] = \"Other\"\n",
    "\n",
    "    # Топ-k кандидатов для каждой записи\n",
    "    topk = int(topk)\n",
    "    results = []\n",
    "    for i in range(len(texts)):\n",
    "        order = np.argsort(-proba[i])[:topk]\n",
    "        results.append({\n",
    "            \"text\": texts[i],\n",
    "            \"pred\": preds_final[i],\n",
    "            \"confidence\": float(maxp[i]),\n",
    "            \"topk_labels\": clf.classes_[order].tolist(),\n",
    "            \"topk_scores\": [float(proba[i, j]) for j in order],\n",
    "        })\n",
    "    return results\n"
   ]
  },
  {
   "cell_type": "markdown",
   "id": "46bf8728",
   "metadata": {},
   "source": [
    "## Быстрый пример инференса (без виджетов)"
   ]
  },
  {
   "cell_type": "code",
   "execution_count": 13,
   "id": "9898e0f6",
   "metadata": {},
   "outputs": [
    {
     "data": {
      "text/html": [
       "<div>\n",
       "<style scoped>\n",
       "    .dataframe tbody tr th:only-of-type {\n",
       "        vertical-align: middle;\n",
       "    }\n",
       "\n",
       "    .dataframe tbody tr th {\n",
       "        vertical-align: top;\n",
       "    }\n",
       "\n",
       "    .dataframe thead th {\n",
       "        text-align: right;\n",
       "    }\n",
       "</style>\n",
       "<table border=\"1\" class=\"dataframe\">\n",
       "  <thead>\n",
       "    <tr style=\"text-align: right;\">\n",
       "      <th></th>\n",
       "      <th>text</th>\n",
       "      <th>pred</th>\n",
       "      <th>confidence</th>\n",
       "      <th>top1..5</th>\n",
       "    </tr>\n",
       "  </thead>\n",
       "  <tbody>\n",
       "    <tr>\n",
       "      <th>0</th>\n",
       "      <td>Продам ноутбук Lenovo i5 8GB 256GB SSD, состоя...</td>\n",
       "      <td>Ноутбуки</td>\n",
       "      <td>0.980</td>\n",
       "      <td>[(Ноутбуки, 0.98), (Квартиры — продажа, 0.001)...</td>\n",
       "    </tr>\n",
       "    <tr>\n",
       "      <th>1</th>\n",
       "      <td>Шлифовка стен, укладка плитки и стяжка пола — ...</td>\n",
       "      <td>Other</td>\n",
       "      <td>0.285</td>\n",
       "      <td>[(Ремонт и стройматериалы, 0.285), (Услуги рем...</td>\n",
       "    </tr>\n",
       "    <tr>\n",
       "      <th>2</th>\n",
       "      <td>Есть в наличии книги, переплёт твёрдый, издате...</td>\n",
       "      <td>Книги</td>\n",
       "      <td>0.978</td>\n",
       "      <td>[(Книги, 0.978), (Квартиры — продажа, 0.001), ...</td>\n",
       "    </tr>\n",
       "    <tr>\n",
       "      <th>3</th>\n",
       "      <td>Продаю запчасти для авто, оригинал OEM, подход...</td>\n",
       "      <td>Запчасти для авто</td>\n",
       "      <td>0.979</td>\n",
       "      <td>[(Запчасти для авто, 0.979), (Дома и дачи — пр...</td>\n",
       "    </tr>\n",
       "    <tr>\n",
       "      <th>4</th>\n",
       "      <td>Продаю авто, оригинал OEM, подходят на Kia/Hyu...</td>\n",
       "      <td>Other</td>\n",
       "      <td>0.453</td>\n",
       "      <td>[(Запчасти для авто, 0.453), (Шины и диски, 0....</td>\n",
       "    </tr>\n",
       "  </tbody>\n",
       "</table>\n",
       "</div>"
      ],
      "text/plain": [
       "                                                text               pred  \\\n",
       "0  Продам ноутбук Lenovo i5 8GB 256GB SSD, состоя...           Ноутбуки   \n",
       "1  Шлифовка стен, укладка плитки и стяжка пола — ...              Other   \n",
       "2  Есть в наличии книги, переплёт твёрдый, издате...              Книги   \n",
       "3  Продаю запчасти для авто, оригинал OEM, подход...  Запчасти для авто   \n",
       "4  Продаю авто, оригинал OEM, подходят на Kia/Hyu...              Other   \n",
       "\n",
       "   confidence                                            top1..5  \n",
       "0       0.980  [(Ноутбуки, 0.98), (Квартиры — продажа, 0.001)...  \n",
       "1       0.285  [(Ремонт и стройматериалы, 0.285), (Услуги рем...  \n",
       "2       0.978  [(Книги, 0.978), (Квартиры — продажа, 0.001), ...  \n",
       "3       0.979  [(Запчасти для авто, 0.979), (Дома и дачи — пр...  \n",
       "4       0.453  [(Запчасти для авто, 0.453), (Шины и диски, 0....  "
      ]
     },
     "execution_count": 13,
     "metadata": {},
     "output_type": "execute_result"
    }
   ],
   "source": [
    "\n",
    "samples = [\n",
    "    \"Продам ноутбук Lenovo i5 8GB 256GB SSD, состояние отличное\",\n",
    "    \"Шлифовка стен, укладка плитки и стяжка пола — работаем по договору\",\n",
    "    \"Есть в наличии книги, переплет твердый, издательство АСТ\",\n",
    "    \"Продаю запчасти для авто, оригинал OEM, подходят на Kia/Hyundai\",\n",
    "    \"Продаю авто, оригинал OEM, подходят на Kia/Hyundai\",\n",
    "]\n",
    "\n",
    "res = classify_texts(samples, use_other=True, topk=5)\n",
    "pd.DataFrame([{\n",
    "    \"text\": r[\"text\"],\n",
    "    \"pred\": r[\"pred\"],\n",
    "    \"confidence\": round(r[\"confidence\"], 3),\n",
    "    \"top1..5\": list(zip(r[\"topk_labels\"], [round(s,3) for s in r[\"topk_scores\"]]))\n",
    "} for r in res])\n"
   ]
  },
  {
   "cell_type": "markdown",
   "id": "4e88e88d",
   "metadata": {},
   "source": [
    "## Интерактивный виджет: ввод текста -> предсказание категории"
   ]
  },
  {
   "cell_type": "code",
   "execution_count": 14,
   "id": "c09c265d",
   "metadata": {},
   "outputs": [
    {
     "data": {
      "application/vnd.jupyter.widget-view+json": {
       "model_id": "85187c78e7514d3696c028a57d8aa6a5",
       "version_major": 2,
       "version_minor": 0
      },
      "text/plain": [
       "VBox(children=(HBox(children=(Dropdown(description='Пример:', layout=Layout(width='50%'), options=('— выберите…"
      ]
     },
     "metadata": {},
     "output_type": "display_data"
    }
   ],
   "source": [
    "\n",
    "import ipywidgets as W\n",
    "from IPython.display import display, HTML, clear_output\n",
    "\n",
    "EXAMPLES = {\n",
    "    \"— выберите пример —\": \"\",\n",
    "    \"Ноутбук\": \"Продам ноутбук Lenovo i5 8GB 256GB SSD, состояние отличное\",\n",
    "    \"Ремонт\": \"Шлифовка стен, укладка плитки и стяжка пола — работаем по договору\",\n",
    "    \"Книги\": \"Есть в наличии книги, переплет твердый, издательство АСТ\",\n",
    "    \"Запчасти\": \"Продаю запчасти для авто, оригинал OEM, подходят на Kia/Hyundai\",\n",
    "    \"Автомобиль\": \"Продаю автомобиль 2022 года без пробега, АКПП, ПТС на руках\",\n",
    "}\n",
    "\n",
    "dd_example = W.Dropdown(options=list(EXAMPLES.keys()), description=\"Пример:\", layout=W.Layout(width=\"50%\"))\n",
    "ta_input   = W.Textarea(value=\"\", placeholder=\"Вставьте текст объявления..\", description=\"Текст:\", layout=W.Layout(width=\"100%\", height=\"120px\"))\n",
    "chk_other  = W.Checkbox(value=True, description=\"Включить класс \"Other\"\")\n",
    "sp_topk    = W.IntSlider(value=5, min=1, max=10, step=1, description=\"Top‑K:\")\n",
    "btn_predict = W.Button(description=\"Определить категорию\", button_style=\"primary\", icon=\"search\")\n",
    "out = W.Output()\n",
    "\n",
    "arts = load_artifacts()\n",
    "\n",
    "def on_example_change(change):\n",
    "    if change[\"type\"] == \"change\" and change[\"name\"] == \"value\":\n",
    "        ta_input.value = EXAMPLES.get(change[\"new\"], \"\")\n",
    "\n",
    "dd_example.observe(on_example_change)\n",
    "\n",
    "def format_result(r):\n",
    "    tops = \"\".join([f\"<li>{lab} — {score:.3f}</li>\" for lab, score in zip(r['topk_labels'], r['topk_scores'])])\n",
    "    html = f'''\n",
    "    <div style=\"font-family: ui-sans-serif, system-ui; border:1px solid #e5e7eb; border-radius:12px; padding:14px;\">\n",
    "      <div style=\"font-size:16px; font-weight:600; margin-bottom:6px;\">Результат</div>\n",
    "      <div><b>Категория:</b> {r[\"pred\"]}</div>\n",
    "      <div><b>Уверенность:</b> {r[\"confidence\"]:.3f}</div>\n",
    "      <div style=\"margin:8px 0 4px;\"><b>Top‑K кандидатов:</b></div>\n",
    "      <ol style=\"margin-top:0;\">{tops}</ol>\n",
    "      <hr style=\"border:0; border-top:1px solid #e5e7eb; margin:12px 0;\">\n",
    "      <div style=\"opacity:.85\"><b>Текст:</b> {r[\"text\"]}</div>\n",
    "    </div>'''\n",
    "    return HTML(html)\n",
    "\n",
    "def on_predict_clicked(_):\n",
    "    with out:\n",
    "        clear_output()\n",
    "        text = ta_input.value.strip()\n",
    "        if not text:\n",
    "            display(HTML(\"<b>Введите текст объявления.</b>\"))\n",
    "            return\n",
    "        btn_predict.description = \"Считаю..\"; btn_predict.disabled = True\n",
    "        results = classify_texts([text], arts=arts, use_other=chk_other.value, topk=sp_topk.value)\n",
    "        display(format_result(results[0]))\n",
    "        btn_predict.description = \"Определить категорию\"; btn_predict.disabled = False\n",
    "\n",
    "btn_predict.on_click(on_predict_clicked)\n",
    "\n",
    "display(W.VBox([\n",
    "    W.HBox([dd_example]),\n",
    "    ta_input,\n",
    "    W.HBox([chk_other, sp_topk]),\n",
    "    btn_predict,\n",
    "    out\n",
    "]))\n"
   ]
  },
  {
   "cell_type": "markdown",
   "id": "766b948d-d0be-41ee-8ab0-c29ffea32be4",
   "metadata": {},
   "source": [
    "## Итоги (02 · Baseline)\n",
    "\n",
    "- Построен устойчивый baseline (TF-IDF + Linear) с разумной латентностью.\n",
    "    \n",
    "- Выявлены пограничные пары классов (полезны для хард-негативов в CE и для саб-голов).\n",
    "    \n",
    "- Сформирована \"нижняя планка\" качества для дальнейших моделей.\n",
    "    \n",
    "\n",
    "**Дальше:**  \n",
    "(1) сохранить confusion-матрицу и таблицу частых ошибок, (2) использовать ошибочные пары как **hard negatives** при обучении Cross-Encoder (см. A1 в appendix folder), (3) зафиксировать версию препроцессинга."
   ]
  }
 ],
 "metadata": {
  "kernelspec": {
   "display_name": "report-analysis",
   "language": "python",
   "name": "report-analysis"
  },
  "language_info": {
   "codemirror_mode": {
    "name": "ipython",
    "version": 3
   },
   "file_extension": ".py",
   "mimetype": "text/x-python",
   "name": "python",
   "nbconvert_exporter": "python",
   "pygments_lexer": "ipython3",
   "version": "3.11.9"
  }
 },
 "nbformat": 4,
 "nbformat_minor": 5
}
