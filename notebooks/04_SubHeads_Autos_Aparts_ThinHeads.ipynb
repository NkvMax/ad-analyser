{
 "cells": [
  {
   "cell_type": "markdown",
   "id": "7c3df079",
   "metadata": {
    "id": "7c3df079"
   },
   "source": [
    "# 04 · Sub-Heads: легкие модели на эмбеддингах\n",
    "\n",
    "**Цель.** Заменить тяжелые BERT-головы на **тонкие модели** (LogReg/CalibratedClassifierCV/LightGBM) по **замороженным эмбеддингам** для саб-классификации (авто-бренды, тип квартиры/комнатность).\n",
    "\n",
    "**Что делаем**\n",
    "\n",
    "- Вытягиваем эмбеддинги (замороженный main encoder).\n",
    "    \n",
    "- Обучаем 2 головы:  \n",
    "    • **Autos (бренды)** — ~20 классов.  \n",
    "    • **Apartments** — {аренда/продажа, 1–4, студия}.\n",
    "    \n",
    "- Калибруем вероятности, подбираем саб-пороги.\n",
    "    \n",
    "- Сравниваем с прежними тяжелыми головами -> близкое качество при сильно меньшей латентности.\n",
    "    \n",
    "\n",
    "**Плюсы**\n",
    "\n",
    "- Существенно легче в проде, проще расширять новыми саб-задачами.\n",
    "    \n",
    "- Не требует переобучать основной encoder."
   ]
  },
  {
   "cell_type": "markdown",
   "id": "93a8572d",
   "metadata": {
    "id": "93a8572d"
   },
   "source": [
    "## 1. Colab setup"
   ]
  },
  {
   "cell_type": "code",
   "execution_count": null,
   "id": "vM4-_puCOZbq",
   "metadata": {
    "colab": {
     "base_uri": "https://localhost:8080/"
    },
    "id": "vM4-_puCOZbq",
    "outputId": "a5cec64d-dc06-47ff-f047-fc953b3ec3cb"
   },
   "outputs": [
    {
     "name": "stdout",
     "output_type": "stream",
     "text": [
      "Mounted at /content/drive\n"
     ]
    }
   ],
   "source": [
    "from google.colab import drive\n",
    "drive.mount('/content/drive')"
   ]
  },
  {
   "cell_type": "code",
   "execution_count": null,
   "id": "f4818385",
   "metadata": {
    "colab": {
     "base_uri": "https://localhost:8080/"
    },
    "id": "f4818385",
    "outputId": "9854f0d6-06db-4048-be30-2827a47cde15"
   },
   "outputs": [
    {
     "name": "stdout",
     "output_type": "stream",
     "text": [
      "BASE_DIR: /content/drive/MyDrive/data_artifacts_AdAnalyser\n",
      "Exists: True True True\n"
     ]
    }
   ],
   "source": [
    "\n",
    "import os, json, math, time, warnings, numpy as np, pandas as pd\n",
    "from pathlib import Path\n",
    "warnings.filterwarnings(\"ignore\")\n",
    "\n",
    "BASE_DIR = Path(\"/content/drive/MyDrive/data_artifacts_AdAnalyser\")\n",
    "MODEL_DIR = BASE_DIR / \"rubert_cls_model\"\n",
    "AUTOS_CSV = BASE_DIR / \"autos_subclf_30000.csv\"\n",
    "APART_CSV = BASE_DIR / \"apartments_subclf_30000.csv\"\n",
    "CACHES    = BASE_DIR / \"caches\"\n",
    "HEADS     = BASE_DIR / \"heads\"\n",
    "\n",
    "CACHES.mkdir(parents=True, exist_ok=True)\n",
    "\n",
    "HEADS.mkdir(parents=True, exist_ok=True)\n",
    "\n",
    "print(\"BASE_DIR:\", BASE_DIR)\n",
    "print(\"Exists:\", MODEL_DIR.exists(), AUTOS_CSV.exists(), APART_CSV.exists())\n"
   ]
  },
  {
   "cell_type": "markdown",
   "id": "15505280",
   "metadata": {
    "id": "15505280"
   },
   "source": [
    "## 2. Load shared encoder (RuBERT)"
   ]
  },
  {
   "cell_type": "code",
   "execution_count": null,
   "id": "bd6f0b63",
   "metadata": {
    "colab": {
     "base_uri": "https://localhost:8080/"
    },
    "id": "bd6f0b63",
    "outputId": "1f61c20a-31fd-4f6e-b95b-f8f13a1e25a1"
   },
   "outputs": [
    {
     "name": "stdout",
     "output_type": "stream",
     "text": [
      "DEVICE: cuda\n",
      "Hidden size: 768\n"
     ]
    }
   ],
   "source": [
    "\n",
    "import torch\n",
    "from transformers import AutoTokenizer, AutoModel\n",
    "DEVICE = \"cuda\" if torch.cuda.is_available() else (\"mps\" if torch.backends.mps.is_available() else \"cpu\")\n",
    "print(\"DEVICE:\", DEVICE)\n",
    "tok = AutoTokenizer.from_pretrained(str(MODEL_DIR))\n",
    "enc = AutoModel.from_pretrained(str(MODEL_DIR)).to(DEVICE); enc.eval()\n",
    "HIDDEN = enc.config.hidden_size if hasattr(enc, \"config\") else 768\n",
    "print(\"Hidden size:\", HIDDEN)\n"
   ]
  },
  {
   "cell_type": "markdown",
   "id": "8b0f5f89",
   "metadata": {
    "id": "8b0f5f89"
   },
   "source": [
    "## 3. Helpers"
   ]
  },
  {
   "cell_type": "code",
   "execution_count": null,
   "id": "52d7c785",
   "metadata": {
    "id": "52d7c785"
   },
   "outputs": [],
   "source": [
    "\n",
    "import re\n",
    "@torch.no_grad()\n",
    "def cls_embeddings(texts, batch_size=256, max_length=160):\n",
    "    outs = []\n",
    "    for i in range(0, len(texts), batch_size):\n",
    "        batch = texts[i:i+batch_size]\n",
    "        inputs = tok(batch, padding=True, truncation=True, max_length=max_length, return_tensors=\"pt\")\n",
    "        inputs = {k: v.to(DEVICE) for k,v in inputs.items()}\n",
    "        out = enc(**inputs)\n",
    "        cls = out.last_hidden_state[:,0,:].detach().cpu().numpy()\n",
    "        outs.append(cls)\n",
    "    return np.vstack(outs)\n",
    "\n",
    "def load_csv(path, text_col=\"text\", label_col=\"label\"):\n",
    "    import pandas as pd\n",
    "    df = pd.read_csv(path).dropna(subset=[text_col, label_col]).reset_index(drop=True)\n",
    "    return df[[text_col, label_col]].rename(columns={text_col:\"text\", label_col:\"label\"})\n"
   ]
  },
  {
   "cell_type": "markdown",
   "id": "0c3f4148",
   "metadata": {
    "id": "0c3f4148"
   },
   "source": [
    "## 4. Data & CLS caches"
   ]
  },
  {
   "cell_type": "code",
   "execution_count": null,
   "id": "e0a87260",
   "metadata": {
    "colab": {
     "base_uri": "https://localhost:8080/"
    },
    "id": "e0a87260",
    "outputId": "4a3d59b3-e2c8-403f-f3aa-b67a4fbd05d7"
   },
   "outputs": [
    {
     "name": "stdout",
     "output_type": "stream",
     "text": [
      "Autos: (30000, 768) 30000\n",
      "Apart: (30000, 768) 30000\n"
     ]
    }
   ],
   "source": [
    "\n",
    "df_autos  = load_csv(AUTOS_CSV)\n",
    "df_apart  = load_csv(APART_CSV)\n",
    "autos_cache = CACHES / \"autos_cls_emb.npy\"\n",
    "apart_cache = CACHES / \"apart_cls_emb.npy\"\n",
    "if autos_cache.exists():\n",
    "    X_autos = np.load(autos_cache)\n",
    "else:\n",
    "    X_autos = cls_embeddings(df_autos[\"text\"].tolist(), batch_size=256, max_length=160)\n",
    "    np.save(autos_cache, X_autos)\n",
    "if apart_cache.exists():\n",
    "    X_apart = np.load(apart_cache)\n",
    "else:\n",
    "    X_apart = cls_embeddings(df_apart[\"text\"].tolist(), batch_size=256, max_length=160)\n",
    "    np.save(apart_cache, X_apart)\n",
    "y_autos = df_autos[\"label\"].astype(str).values\n",
    "y_apart = df_apart[\"label\"].astype(str).values\n",
    "print(\"Autos:\", X_autos.shape, len(y_autos))\n",
    "print(\"Apart:\", X_apart.shape, len(y_apart))\n"
   ]
  },
  {
   "cell_type": "markdown",
   "id": "6261287f",
   "metadata": {
    "id": "6261287f"
   },
   "source": [
    "## 5. Train head · Autos (brand)"
   ]
  },
  {
   "cell_type": "code",
   "execution_count": null,
   "id": "a4baa9ec",
   "metadata": {
    "colab": {
     "base_uri": "https://localhost:8080/"
    },
    "id": "a4baa9ec",
    "outputId": "7cf8ebf2-9497-4794-fb02-58f13e9a3618"
   },
   "outputs": [
    {
     "name": "stdout",
     "output_type": "stream",
     "text": [
      "Autos · F1(macro): 1.0\n",
      "              precision    recall  f1-score   support\n",
      "\n",
      "        Audi       1.00      1.00      1.00       225\n",
      "         BMW       1.00      1.00      1.00       225\n",
      "   Chevrolet       1.00      1.00      1.00       225\n",
      "        Ford       1.00      1.00      1.00       225\n",
      "       Honda       1.00      1.00      1.00       225\n",
      "     Hyundai       1.00      1.00      1.00       225\n",
      "         Kia       1.00      1.00      1.00       225\n",
      "        Lada       1.00      1.00      1.00       225\n",
      "       Lexus       1.00      1.00      1.00       225\n",
      "       Mazda       1.00      1.00      1.00       225\n",
      "    Mercedes       1.00      1.00      1.00       225\n",
      "  Mitsubishi       1.00      1.00      1.00       225\n",
      "      Nissan       1.00      1.00      1.00       225\n",
      "        Opel       1.00      1.00      1.00       225\n",
      "     Peugeot       1.00      1.00      1.00       225\n",
      "     Renault       1.00      1.00      1.00       225\n",
      "       Skoda       1.00      1.00      1.00       225\n",
      "      Subaru       1.00      1.00      1.00       225\n",
      "      Toyota       1.00      1.00      1.00       225\n",
      "  Volkswagen       1.00      1.00      1.00       225\n",
      "\n",
      "    accuracy                           1.00      4500\n",
      "   macro avg       1.00      1.00      1.00      4500\n",
      "weighted avg       1.00      1.00      1.00      4500\n",
      "\n",
      "Saved: /content/drive/MyDrive/data_artifacts_AdAnalyser/heads/head_autos_brand.joblib\n"
     ]
    }
   ],
   "source": [
    "\n",
    "from sklearn.model_selection import train_test_split\n",
    "from sklearn.preprocessing import LabelEncoder, StandardScaler\n",
    "from sklearn.neural_network import MLPClassifier\n",
    "from sklearn.calibration import CalibratedClassifierCV\n",
    "from sklearn.metrics import classification_report, f1_score\n",
    "import joblib\n",
    "Xtr, Xva, ytr_raw, yva_raw = train_test_split(X_autos, y_autos, test_size=0.15, random_state=42, stratify=y_autos)\n",
    "le_autos = LabelEncoder().fit(y_autos)\n",
    "ytr = le_autos.transform(ytr_raw); yva = le_autos.transform(yva_raw)\n",
    "sc_autos = StandardScaler().fit(Xtr)\n",
    "Xtr_s = sc_autos.transform(Xtr); Xva_s = sc_autos.transform(Xva)\n",
    "mlp_autos = MLPClassifier(hidden_layer_sizes=(256,), activation=\"relu\", solver=\"adam\",\n",
    "                          learning_rate_init=1e-3, max_iter=80, early_stopping=True,\n",
    "                          n_iter_no_change=5, random_state=42, batch_size=512, verbose=False).fit(Xtr_s, ytr)\n",
    "cal_autos = CalibratedClassifierCV(mlp_autos, method=\"sigmoid\", cv=\"prefit\").fit(Xva_s, yva)\n",
    "pred = cal_autos.predict(Xva_s); proba= cal_autos.predict_proba(Xva_s).max(axis=1)\n",
    "print(\"Autos · F1(macro):\", round(f1_score(yva, pred, average=\"macro\"), 4))\n",
    "print(classification_report(yva, pred, target_names=le_autos.classes_))\n",
    "import joblib\n",
    "joblib.dump({\"model\": cal_autos, \"label_encoder\": le_autos, \"scaler\": sc_autos,\n",
    "             \"meta\": {\"created\": time.strftime(\"%Y-%m-%d %H:%M:%S\"), \"hidden\": int(HIDDEN)}},\n",
    "            str(HEADS / \"head_autos_brand.joblib\"))\n",
    "print(\"Saved:\", HEADS / \"head_autos_brand.joblib\")\n"
   ]
  },
  {
   "cell_type": "markdown",
   "id": "bf00f271",
   "metadata": {
    "id": "bf00f271"
   },
   "source": [
    "## 6. Train head &  Apartments"
   ]
  },
  {
   "cell_type": "code",
   "execution_count": null,
   "id": "29a2567d",
   "metadata": {
    "colab": {
     "base_uri": "https://localhost:8080/"
    },
    "id": "29a2567d",
    "outputId": "7935ed65-73ed-40fe-889c-ae3539d6b755"
   },
   "outputs": [
    {
     "name": "stdout",
     "output_type": "stream",
     "text": [
      "Apart · F1(macro): 0.9998\n",
      "Saved: /content/drive/MyDrive/data_artifacts_AdAnalyser/heads/head_apart.joblib\n"
     ]
    }
   ],
   "source": [
    "\n",
    "from sklearn.model_selection import train_test_split\n",
    "from sklearn.preprocessing import LabelEncoder, StandardScaler\n",
    "from sklearn.neural_network import MLPClassifier\n",
    "from sklearn.calibration import CalibratedClassifierCV\n",
    "from sklearn.metrics import f1_score\n",
    "import joblib\n",
    "Xtr, Xva, ytr_raw, yva_raw = train_test_split(X_apart, y_apart, test_size=0.15, random_state=42, stratify=y_apart)\n",
    "le_apart = LabelEncoder().fit(y_apart)\n",
    "ytr = le_apart.transform(ytr_raw); yva = le_apart.transform(yva_raw)\n",
    "sc_apart = StandardScaler().fit(Xtr)\n",
    "Xtr_s = sc_apart.transform(Xtr); Xva_s = sc_apart.transform(Xva)\n",
    "mlp_apart = MLPClassifier(hidden_layer_sizes=(256,), activation=\"relu\", solver=\"adam\",\n",
    "                          learning_rate_init=1e-3, max_iter=80, early_stopping=True,\n",
    "                          n_iter_no_change=5, random_state=42, batch_size=512, verbose=False).fit(Xtr_s, ytr)\n",
    "cal_apart = CalibratedClassifierCV(mlp_apart, method=\"sigmoid\", cv=\"prefit\").fit(Xva_s, yva)\n",
    "pred = cal_apart.predict(Xva_s)\n",
    "print(\"Apart · F1(macro):\", round(f1_score(yva, pred, average=\"macro\"), 4))\n",
    "joblib.dump({\"model\": cal_apart, \"label_encoder\": le_apart, \"scaler\": sc_apart,\n",
    "             \"meta\": {\"created\": time.strftime(\"%Y-%m-%d %H:%M:%S\"), \"hidden\": int(HIDDEN)}},\n",
    "            str(HEADS / \"head_apart.joblib\"))\n",
    "print(\"Saved:\", HEADS / \"head_apart.joblib\")\n"
   ]
  },
  {
   "cell_type": "markdown",
   "id": "782d98d7",
   "metadata": {
    "id": "782d98d7"
   },
   "source": [
    "## 7. Quick sanity check"
   ]
  },
  {
   "cell_type": "code",
   "execution_count": null,
   "id": "5deb17df",
   "metadata": {
    "colab": {
     "base_uri": "https://localhost:8080/",
     "height": 192
    },
    "id": "5deb17df",
    "outputId": "c1397671-3ae8-4efd-def7-02557aff5cfd"
   },
   "outputs": [
    {
     "data": {
      "application/vnd.google.colaboratory.intrinsic+json": {
       "summary": "{\n  \"name\": \"pd\",\n  \"rows\": 4,\n  \"fields\": [\n    {\n      \"column\": \"text\",\n      \"properties\": {\n        \"dtype\": \"string\",\n        \"num_unique_values\": 4,\n        \"samples\": [\n          \"\\u041e\\u043f\\u0435\\u043b\\u044c \\u0410\\u0441\\u0442\\u0440\\u0430 2012, \\u0410\\u041a\\u041f\\u041f, \\u0445\\u043e\\u0440\\u043e\\u0448\\u0435\\u0435 \\u0441\\u043e\\u0441\\u0442\\u043e\\u044f\\u043d\\u0438\\u0435\",\n          \"\\u0421\\u0434\\u0430\\u043c 1-\\u043a \\u043a\\u0432\\u0430\\u0440\\u0442\\u0438\\u0440\\u0443 \\u0443 \\u043c\\u0435\\u0442\\u0440\\u043e\",\n          \"\\u041f\\u0440\\u043e\\u0434\\u0430\\u044e Toyota Camry 2019, \\u0430\\u0432\\u0442\\u043e\\u043c\\u0430\\u0442, \\u043e\\u0434\\u0438\\u043d \\u0445\\u043e\\u0437\\u044f\\u0438\\u043d\"\n        ],\n        \"semantic_type\": \"\",\n        \"description\": \"\"\n      }\n    },\n    {\n      \"column\": \"auto_brand\",\n      \"properties\": {\n        \"dtype\": \"string\",\n        \"num_unique_values\": 4,\n        \"samples\": [\n          \"Opel\",\n          \"Kia\",\n          \"Toyota\"\n        ],\n        \"semantic_type\": \"\",\n        \"description\": \"\"\n      }\n    },\n    {\n      \"column\": \"auto_p\",\n      \"properties\": {\n        \"dtype\": \"number\",\n        \"std\": 0.22522192605122493,\n        \"min\": 0.5299523568744511,\n        \"max\": 0.9955564689633604,\n        \"num_unique_values\": 4,\n        \"samples\": [\n          0.993844461648479,\n          0.5299523568744511,\n          0.9955564689633604\n        ],\n        \"semantic_type\": \"\",\n        \"description\": \"\"\n      }\n    },\n    {\n      \"column\": \"apart\",\n      \"properties\": {\n        \"dtype\": \"string\",\n        \"num_unique_values\": 3,\n        \"samples\": [\n          \"\\u0441\\u0442\\u0443\\u0434\\u0438\\u044f_\\u043f\\u0440\\u043e\\u0434\\u0430\\u0436\\u0430\",\n          \"\\u0430\\u0440\\u0435\\u043d\\u0434\\u0430_4\",\n          \"\\u0430\\u0440\\u0435\\u043d\\u0434\\u0430_1\"\n        ],\n        \"semantic_type\": \"\",\n        \"description\": \"\"\n      }\n    },\n    {\n      \"column\": \"apart_p\",\n      \"properties\": {\n        \"dtype\": \"number\",\n        \"std\": 0.035752934216736955,\n        \"min\": 0.9261415824703711,\n        \"max\": 0.9976659065476918,\n        \"num_unique_values\": 4,\n        \"samples\": [\n          0.9976413246327768,\n          0.9976659065476918,\n          0.9976351066925226\n        ],\n        \"semantic_type\": \"\",\n        \"description\": \"\"\n      }\n    }\n  ]\n}",
       "type": "dataframe"
      },
      "text/html": [
       "\n",
       "  <div id=\"df-384e9f41-5f2e-4cab-8c6c-62800c1af135\" class=\"colab-df-container\">\n",
       "    <div>\n",
       "<style scoped>\n",
       "    .dataframe tbody tr th:only-of-type {\n",
       "        vertical-align: middle;\n",
       "    }\n",
       "\n",
       "    .dataframe tbody tr th {\n",
       "        vertical-align: top;\n",
       "    }\n",
       "\n",
       "    .dataframe thead th {\n",
       "        text-align: right;\n",
       "    }\n",
       "</style>\n",
       "<table border=\"1\" class=\"dataframe\">\n",
       "  <thead>\n",
       "    <tr style=\"text-align: right;\">\n",
       "      <th></th>\n",
       "      <th>text</th>\n",
       "      <th>auto_brand</th>\n",
       "      <th>auto_p</th>\n",
       "      <th>apart</th>\n",
       "      <th>apart_p</th>\n",
       "    </tr>\n",
       "  </thead>\n",
       "  <tbody>\n",
       "    <tr>\n",
       "      <th>0</th>\n",
       "      <td>Продаю Toyota Camry 2019, автомат, один хозяин</td>\n",
       "      <td>Toyota</td>\n",
       "      <td>0.995556</td>\n",
       "      <td>студия_продажа</td>\n",
       "      <td>0.997635</td>\n",
       "    </tr>\n",
       "    <tr>\n",
       "      <th>1</th>\n",
       "      <td>Опель Астра 2012, АКПП, хорошее состояние</td>\n",
       "      <td>Opel</td>\n",
       "      <td>0.993844</td>\n",
       "      <td>студия_продажа</td>\n",
       "      <td>0.997641</td>\n",
       "    </tr>\n",
       "    <tr>\n",
       "      <th>2</th>\n",
       "      <td>Квартира, продажа, 2-комнатная, центр</td>\n",
       "      <td>Lexus</td>\n",
       "      <td>0.944216</td>\n",
       "      <td>аренда_4</td>\n",
       "      <td>0.926142</td>\n",
       "    </tr>\n",
       "    <tr>\n",
       "      <th>3</th>\n",
       "      <td>Сдам 1-к квартиру у метро</td>\n",
       "      <td>Kia</td>\n",
       "      <td>0.529952</td>\n",
       "      <td>аренда_1</td>\n",
       "      <td>0.997666</td>\n",
       "    </tr>\n",
       "  </tbody>\n",
       "</table>\n",
       "</div>\n",
       "    <div class=\"colab-df-buttons\">\n",
       "\n",
       "  <div class=\"colab-df-container\">\n",
       "    <button class=\"colab-df-convert\" onclick=\"convertToInteractive('df-384e9f41-5f2e-4cab-8c6c-62800c1af135')\"\n",
       "            title=\"Convert this dataframe to an interactive table.\"\n",
       "            style=\"display:none;\">\n",
       "\n",
       "  <svg xmlns=\"http://www.w3.org/2000/svg\" height=\"24px\" viewBox=\"0 -960 960 960\">\n",
       "    <path d=\"M120-120v-720h720v720H120Zm60-500h600v-160H180v160Zm220 220h160v-160H400v160Zm0 220h160v-160H400v160ZM180-400h160v-160H180v160Zm440 0h160v-160H620v160ZM180-180h160v-160H180v160Zm440 0h160v-160H620v160Z\"/>\n",
       "  </svg>\n",
       "    </button>\n",
       "\n",
       "  <style>\n",
       "    .colab-df-container {\n",
       "      display:flex;\n",
       "      gap: 12px;\n",
       "    }\n",
       "\n",
       "    .colab-df-convert {\n",
       "      background-color: #E8F0FE;\n",
       "      border: none;\n",
       "      border-radius: 50%;\n",
       "      cursor: pointer;\n",
       "      display: none;\n",
       "      fill: #1967D2;\n",
       "      height: 32px;\n",
       "      padding: 0 0 0 0;\n",
       "      width: 32px;\n",
       "    }\n",
       "\n",
       "    .colab-df-convert:hover {\n",
       "      background-color: #E2EBFA;\n",
       "      box-shadow: 0px 1px 2px rgba(60, 64, 67, 0.3), 0px 1px 3px 1px rgba(60, 64, 67, 0.15);\n",
       "      fill: #174EA6;\n",
       "    }\n",
       "\n",
       "    .colab-df-buttons div {\n",
       "      margin-bottom: 4px;\n",
       "    }\n",
       "\n",
       "    [theme=dark] .colab-df-convert {\n",
       "      background-color: #3B4455;\n",
       "      fill: #D2E3FC;\n",
       "    }\n",
       "\n",
       "    [theme=dark] .colab-df-convert:hover {\n",
       "      background-color: #434B5C;\n",
       "      box-shadow: 0px 1px 3px 1px rgba(0, 0, 0, 0.15);\n",
       "      filter: drop-shadow(0px 1px 2px rgba(0, 0, 0, 0.3));\n",
       "      fill: #FFFFFF;\n",
       "    }\n",
       "  </style>\n",
       "\n",
       "    <script>\n",
       "      const buttonEl =\n",
       "        document.querySelector('#df-384e9f41-5f2e-4cab-8c6c-62800c1af135 button.colab-df-convert');\n",
       "      buttonEl.style.display =\n",
       "        google.colab.kernel.accessAllowed ? 'block' : 'none';\n",
       "\n",
       "      async function convertToInteractive(key) {\n",
       "        const element = document.querySelector('#df-384e9f41-5f2e-4cab-8c6c-62800c1af135');\n",
       "        const dataTable =\n",
       "          await google.colab.kernel.invokeFunction('convertToInteractive',\n",
       "                                                    [key], {});\n",
       "        if (!dataTable) return;\n",
       "\n",
       "        const docLinkHtml = 'Like what you see? Visit the ' +\n",
       "          '<a target=\"_blank\" href=https://colab.research.google.com/notebooks/data_table.ipynb>data table notebook</a>'\n",
       "          + ' to learn more about interactive tables.';\n",
       "        element.innerHTML = '';\n",
       "        dataTable['output_type'] = 'display_data';\n",
       "        await google.colab.output.renderOutput(dataTable, element);\n",
       "        const docLink = document.createElement('div');\n",
       "        docLink.innerHTML = docLinkHtml;\n",
       "        element.appendChild(docLink);\n",
       "      }\n",
       "    </script>\n",
       "  </div>\n",
       "\n",
       "\n",
       "    <div id=\"df-6a4c047b-94a1-45d8-924f-40c263d69103\">\n",
       "      <button class=\"colab-df-quickchart\" onclick=\"quickchart('df-6a4c047b-94a1-45d8-924f-40c263d69103')\"\n",
       "                title=\"Suggest charts\"\n",
       "                style=\"display:none;\">\n",
       "\n",
       "<svg xmlns=\"http://www.w3.org/2000/svg\" height=\"24px\"viewBox=\"0 0 24 24\"\n",
       "     width=\"24px\">\n",
       "    <g>\n",
       "        <path d=\"M19 3H5c-1.1 0-2 .9-2 2v14c0 1.1.9 2 2 2h14c1.1 0 2-.9 2-2V5c0-1.1-.9-2-2-2zM9 17H7v-7h2v7zm4 0h-2V7h2v10zm4 0h-2v-4h2v4z\"/>\n",
       "    </g>\n",
       "</svg>\n",
       "      </button>\n",
       "\n",
       "<style>\n",
       "  .colab-df-quickchart {\n",
       "      --bg-color: #E8F0FE;\n",
       "      --fill-color: #1967D2;\n",
       "      --hover-bg-color: #E2EBFA;\n",
       "      --hover-fill-color: #174EA6;\n",
       "      --disabled-fill-color: #AAA;\n",
       "      --disabled-bg-color: #DDD;\n",
       "  }\n",
       "\n",
       "  [theme=dark] .colab-df-quickchart {\n",
       "      --bg-color: #3B4455;\n",
       "      --fill-color: #D2E3FC;\n",
       "      --hover-bg-color: #434B5C;\n",
       "      --hover-fill-color: #FFFFFF;\n",
       "      --disabled-bg-color: #3B4455;\n",
       "      --disabled-fill-color: #666;\n",
       "  }\n",
       "\n",
       "  .colab-df-quickchart {\n",
       "    background-color: var(--bg-color);\n",
       "    border: none;\n",
       "    border-radius: 50%;\n",
       "    cursor: pointer;\n",
       "    display: none;\n",
       "    fill: var(--fill-color);\n",
       "    height: 32px;\n",
       "    padding: 0;\n",
       "    width: 32px;\n",
       "  }\n",
       "\n",
       "  .colab-df-quickchart:hover {\n",
       "    background-color: var(--hover-bg-color);\n",
       "    box-shadow: 0 1px 2px rgba(60, 64, 67, 0.3), 0 1px 3px 1px rgba(60, 64, 67, 0.15);\n",
       "    fill: var(--button-hover-fill-color);\n",
       "  }\n",
       "\n",
       "  .colab-df-quickchart-complete:disabled,\n",
       "  .colab-df-quickchart-complete:disabled:hover {\n",
       "    background-color: var(--disabled-bg-color);\n",
       "    fill: var(--disabled-fill-color);\n",
       "    box-shadow: none;\n",
       "  }\n",
       "\n",
       "  .colab-df-spinner {\n",
       "    border: 2px solid var(--fill-color);\n",
       "    border-color: transparent;\n",
       "    border-bottom-color: var(--fill-color);\n",
       "    animation:\n",
       "      spin 1s steps(1) infinite;\n",
       "  }\n",
       "\n",
       "  @keyframes spin {\n",
       "    0% {\n",
       "      border-color: transparent;\n",
       "      border-bottom-color: var(--fill-color);\n",
       "      border-left-color: var(--fill-color);\n",
       "    }\n",
       "    20% {\n",
       "      border-color: transparent;\n",
       "      border-left-color: var(--fill-color);\n",
       "      border-top-color: var(--fill-color);\n",
       "    }\n",
       "    30% {\n",
       "      border-color: transparent;\n",
       "      border-left-color: var(--fill-color);\n",
       "      border-top-color: var(--fill-color);\n",
       "      border-right-color: var(--fill-color);\n",
       "    }\n",
       "    40% {\n",
       "      border-color: transparent;\n",
       "      border-right-color: var(--fill-color);\n",
       "      border-top-color: var(--fill-color);\n",
       "    }\n",
       "    60% {\n",
       "      border-color: transparent;\n",
       "      border-right-color: var(--fill-color);\n",
       "    }\n",
       "    80% {\n",
       "      border-color: transparent;\n",
       "      border-right-color: var(--fill-color);\n",
       "      border-bottom-color: var(--fill-color);\n",
       "    }\n",
       "    90% {\n",
       "      border-color: transparent;\n",
       "      border-bottom-color: var(--fill-color);\n",
       "    }\n",
       "  }\n",
       "</style>\n",
       "\n",
       "      <script>\n",
       "        async function quickchart(key) {\n",
       "          const quickchartButtonEl =\n",
       "            document.querySelector('#' + key + ' button');\n",
       "          quickchartButtonEl.disabled = true;  // To prevent multiple clicks.\n",
       "          quickchartButtonEl.classList.add('colab-df-spinner');\n",
       "          try {\n",
       "            const charts = await google.colab.kernel.invokeFunction(\n",
       "                'suggestCharts', [key], {});\n",
       "          } catch (error) {\n",
       "            console.error('Error during call to suggestCharts:', error);\n",
       "          }\n",
       "          quickchartButtonEl.classList.remove('colab-df-spinner');\n",
       "          quickchartButtonEl.classList.add('colab-df-quickchart-complete');\n",
       "        }\n",
       "        (() => {\n",
       "          let quickchartButtonEl =\n",
       "            document.querySelector('#df-6a4c047b-94a1-45d8-924f-40c263d69103 button');\n",
       "          quickchartButtonEl.style.display =\n",
       "            google.colab.kernel.accessAllowed ? 'block' : 'none';\n",
       "        })();\n",
       "      </script>\n",
       "    </div>\n",
       "    </div>\n",
       "  </div>\n"
      ],
      "text/plain": [
       "                                             text auto_brand    auto_p  \\\n",
       "0  Продаю Toyota Camry 2019, автомат, один хозяин     Toyota  0.995556   \n",
       "1       Опель Астра 2012, АКПП, хорошее состояние       Opel  0.993844   \n",
       "2           Квартира, продажа, 2-комнатная, центр      Lexus  0.944216   \n",
       "3                       Сдам 1-к квартиру у метро        Kia  0.529952   \n",
       "\n",
       "            apart   apart_p  \n",
       "0  студия_продажа  0.997635  \n",
       "1  студия_продажа  0.997641  \n",
       "2        аренда_4  0.926142  \n",
       "3        аренда_1  0.997666  "
      ]
     },
     "execution_count": 9,
     "metadata": {},
     "output_type": "execute_result"
    }
   ],
   "source": [
    "\n",
    "import joblib, numpy as np, pandas as pd\n",
    "autos_head = joblib.load(HEADS / \"head_autos_brand.joblib\")\n",
    "apart_head = joblib.load(HEADS / \"head_apart.joblib\")\n",
    "samples = [\n",
    "    \"Продаю Toyota Camry 2019, автомат, один хозяин\",\n",
    "    \"Опель Астра 2012, АКПП, хорошее состояние\",\n",
    "    \"Квартира, продажа, 2-комнатная, центр\",\n",
    "    \"Сдам 1-к квартиру у метро\"\n",
    "]\n",
    "E = cls_embeddings(samples, batch_size=32, max_length=160)\n",
    "Ea = autos_head[\"scaler\"].transform(E); Pa = autos_head[\"model\"].predict_proba(Ea)\n",
    "Ia = Pa.argmax(axis=1); La = autos_head[\"label_encoder\"].inverse_transform(Ia); Sa = Pa.max(axis=1)\n",
    "Ep = apart_head[\"scaler\"].transform(E); Pp = apart_head[\"model\"].predict_proba(Ep)\n",
    "Ip = Pp.argmax(axis=1); Lp = apart_head[\"label_encoder\"].inverse_transform(Ip); Sp = Pp.max(axis=1)\n",
    "out = [{\"text\": t, \"auto_brand\": la, \"auto_p\": float(sa), \"apart\": lp, \"apart_p\": float(sp)}\n",
    "       for t, la, sa, lp, sp in zip(samples, La, Sa, Lp, Sp)]\n",
    "pd.DataFrame(out)\n"
   ]
  },
  {
   "cell_type": "markdown",
   "id": "c3bd5279",
   "metadata": {
    "id": "c3bd5279"
   },
   "source": [
    "## 8. Paths summary"
   ]
  },
  {
   "cell_type": "code",
   "execution_count": null,
   "id": "c3c61e5f",
   "metadata": {
    "colab": {
     "base_uri": "https://localhost:8080/"
    },
    "id": "c3c61e5f",
    "outputId": "b7fd5197-01b1-4c4c-8ed9-4e9c5a6ad18f"
   },
   "outputs": [
    {
     "name": "stdout",
     "output_type": "stream",
     "text": [
      "Caches:\n",
      " - /content/drive/MyDrive/data_artifacts_AdAnalyser/caches/autos_cls_emb.npy\n",
      " - /content/drive/MyDrive/data_artifacts_AdAnalyser/caches/apart_cls_emb.npy\n",
      "Heads:\n",
      " - /content/drive/MyDrive/data_artifacts_AdAnalyser/heads/head_autos_brand.joblib\n",
      " - /content/drive/MyDrive/data_artifacts_AdAnalyser/heads/head_apart.joblib\n"
     ]
    }
   ],
   "source": [
    "\n",
    "print(\"Caches:\"); print(\" -\", CACHES / \"autos_cls_emb.npy\"); print(\" -\", CACHES / \"apart_cls_emb.npy\")\n",
    "print(\"Heads:\");  print(\" -\", HEADS / \"head_autos_brand.joblib\"); print(\" -\", HEADS / \"head_apart.joblib\")\n"
   ]
  },
  {
   "cell_type": "markdown",
   "id": "94132e78-f6c5-406c-b0d5-ead21ac492a2",
   "metadata": {},
   "source": [
    "## Итоги (04 · Sub-Heads)\n",
    "\n",
    "- Обучены тонкие головы для **авто-брендов** и **квартир**.\n",
    "    \n",
    "- Получили хорошую **точность при низкой стоимости** — оправданная замена старым BERT-головам.\n",
    "    \n",
    "- Итоговые саб-пороги (из 06): `autos_tau = 0.60`, `apart_tau = 0.30`.\n",
    "    \n",
    "\n",
    "**Дальше:**  \n",
    "(1) аккуратная **нормализация** меток (бренд/кол-во комнат),  \n",
    "(2) расширяемость: добавление новых саб-признаков без участия RuBERT модели,  \n",
    "(3) unit-sanity: если coarse {авто/квартиры}, но `sub_label=None` -> алерт."
   ]
  }
 ],
 "metadata": {
  "accelerator": "GPU",
  "colab": {
   "gpuType": "T4",
   "provenance": []
  },
  "kernelspec": {
   "display_name": "report-analysis",
   "language": "python",
   "name": "report-analysis"
  },
  "language_info": {
   "codemirror_mode": {
    "name": "ipython",
    "version": 3
   },
   "file_extension": ".py",
   "mimetype": "text/x-python",
   "name": "python",
   "nbconvert_exporter": "python",
   "pygments_lexer": "ipython3",
   "version": "3.11.9"
  }
 },
 "nbformat": 4,
 "nbformat_minor": 5
}
